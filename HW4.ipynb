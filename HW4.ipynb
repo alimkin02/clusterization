{
 "cells": [
  {
   "cell_type": "code",
   "execution_count": 1,
   "id": "61d1bde7",
   "metadata": {},
   "outputs": [],
   "source": [
    "import numpy as np\n",
    "import pandas as pd\n",
    "from scipy import sparse\n",
    "import seaborn as sns\n",
    "from sklearn.linear_model import LogisticRegression\n",
    "from sklearn.preprocessing import StandardScaler\n",
    "from sklearn.cluster import KMeans\n",
    "from sklearn.cluster import DBSCAN\n",
    "from sklearn.mixture import GaussianMixture\n",
    "from sklearn.decomposition import TruncatedSVD\n",
    "import hdbscan\n",
    "from sklearn.cluster import SpectralClustering\n",
    "from sklearn.decomposition import PCA\n",
    "import matplotlib.pyplot as plt\n",
    "from sklearn.cluster import OPTICS"
   ]
  },
  {
   "cell_type": "code",
   "execution_count": 2,
   "id": "88bcc593",
   "metadata": {},
   "outputs": [],
   "source": [
    "train = sparse.load_npz(\"train.npz\")\n",
    "data = pd.DataFrame.sparse.from_spmatrix(train)"
   ]
  },
  {
   "cell_type": "markdown",
   "id": "2f5877a2",
   "metadata": {},
   "source": [
    "### Здравствуйте! В данном ноутбуке попытаюсь показать ход своих мыслей при решении задачи. Сразу признаюсь - у меня мало что получилось, но я пытался)"
   ]
  },
  {
   "cell_type": "code",
   "execution_count": 3,
   "id": "a4177198",
   "metadata": {},
   "outputs": [
    {
     "data": {
      "text/plain": [
       "(14590, 77888)"
      ]
     },
     "execution_count": 3,
     "metadata": {},
     "output_type": "execute_result"
    }
   ],
   "source": [
    "data.shape"
   ]
  },
  {
   "cell_type": "code",
   "execution_count": 4,
   "id": "62c4c380",
   "metadata": {},
   "outputs": [
    {
     "data": {
      "text/plain": [
       "pandas.core.frame.DataFrame"
      ]
     },
     "execution_count": 4,
     "metadata": {},
     "output_type": "execute_result"
    }
   ],
   "source": [
    "type(data)"
   ]
  },
  {
   "cell_type": "code",
   "execution_count": 5,
   "id": "fda3f802",
   "metadata": {},
   "outputs": [
    {
     "data": {
      "text/html": [
       "<div>\n",
       "<style scoped>\n",
       "    .dataframe tbody tr th:only-of-type {\n",
       "        vertical-align: middle;\n",
       "    }\n",
       "\n",
       "    .dataframe tbody tr th {\n",
       "        vertical-align: top;\n",
       "    }\n",
       "\n",
       "    .dataframe thead th {\n",
       "        text-align: right;\n",
       "    }\n",
       "</style>\n",
       "<table border=\"1\" class=\"dataframe\">\n",
       "  <thead>\n",
       "    <tr style=\"text-align: right;\">\n",
       "      <th></th>\n",
       "      <th>0</th>\n",
       "      <th>1</th>\n",
       "      <th>2</th>\n",
       "      <th>3</th>\n",
       "      <th>4</th>\n",
       "      <th>5</th>\n",
       "      <th>6</th>\n",
       "      <th>7</th>\n",
       "      <th>8</th>\n",
       "      <th>9</th>\n",
       "      <th>...</th>\n",
       "      <th>77878</th>\n",
       "      <th>77879</th>\n",
       "      <th>77880</th>\n",
       "      <th>77881</th>\n",
       "      <th>77882</th>\n",
       "      <th>77883</th>\n",
       "      <th>77884</th>\n",
       "      <th>77885</th>\n",
       "      <th>77886</th>\n",
       "      <th>77887</th>\n",
       "    </tr>\n",
       "  </thead>\n",
       "  <tbody>\n",
       "    <tr>\n",
       "      <th>0</th>\n",
       "      <td>0</td>\n",
       "      <td>0</td>\n",
       "      <td>0</td>\n",
       "      <td>0</td>\n",
       "      <td>0</td>\n",
       "      <td>0</td>\n",
       "      <td>0</td>\n",
       "      <td>0</td>\n",
       "      <td>0</td>\n",
       "      <td>0</td>\n",
       "      <td>...</td>\n",
       "      <td>0</td>\n",
       "      <td>0</td>\n",
       "      <td>0</td>\n",
       "      <td>0</td>\n",
       "      <td>0</td>\n",
       "      <td>0</td>\n",
       "      <td>0</td>\n",
       "      <td>0</td>\n",
       "      <td>0</td>\n",
       "      <td>0</td>\n",
       "    </tr>\n",
       "    <tr>\n",
       "      <th>1</th>\n",
       "      <td>0</td>\n",
       "      <td>0</td>\n",
       "      <td>0</td>\n",
       "      <td>0</td>\n",
       "      <td>0</td>\n",
       "      <td>0</td>\n",
       "      <td>0</td>\n",
       "      <td>0</td>\n",
       "      <td>0</td>\n",
       "      <td>0</td>\n",
       "      <td>...</td>\n",
       "      <td>0</td>\n",
       "      <td>0</td>\n",
       "      <td>0</td>\n",
       "      <td>0</td>\n",
       "      <td>0</td>\n",
       "      <td>0</td>\n",
       "      <td>0</td>\n",
       "      <td>0</td>\n",
       "      <td>0</td>\n",
       "      <td>0</td>\n",
       "    </tr>\n",
       "    <tr>\n",
       "      <th>2</th>\n",
       "      <td>0</td>\n",
       "      <td>0</td>\n",
       "      <td>0</td>\n",
       "      <td>0</td>\n",
       "      <td>0</td>\n",
       "      <td>0</td>\n",
       "      <td>0</td>\n",
       "      <td>0</td>\n",
       "      <td>0</td>\n",
       "      <td>0</td>\n",
       "      <td>...</td>\n",
       "      <td>0</td>\n",
       "      <td>0</td>\n",
       "      <td>0</td>\n",
       "      <td>0</td>\n",
       "      <td>0</td>\n",
       "      <td>0</td>\n",
       "      <td>0</td>\n",
       "      <td>0</td>\n",
       "      <td>0</td>\n",
       "      <td>0</td>\n",
       "    </tr>\n",
       "    <tr>\n",
       "      <th>3</th>\n",
       "      <td>0</td>\n",
       "      <td>0</td>\n",
       "      <td>0</td>\n",
       "      <td>0</td>\n",
       "      <td>0</td>\n",
       "      <td>0</td>\n",
       "      <td>0</td>\n",
       "      <td>0</td>\n",
       "      <td>0</td>\n",
       "      <td>0</td>\n",
       "      <td>...</td>\n",
       "      <td>0</td>\n",
       "      <td>0</td>\n",
       "      <td>0</td>\n",
       "      <td>0</td>\n",
       "      <td>0</td>\n",
       "      <td>0</td>\n",
       "      <td>0</td>\n",
       "      <td>0</td>\n",
       "      <td>0</td>\n",
       "      <td>0</td>\n",
       "    </tr>\n",
       "    <tr>\n",
       "      <th>4</th>\n",
       "      <td>0</td>\n",
       "      <td>0</td>\n",
       "      <td>0</td>\n",
       "      <td>0</td>\n",
       "      <td>0</td>\n",
       "      <td>0</td>\n",
       "      <td>0</td>\n",
       "      <td>0</td>\n",
       "      <td>0</td>\n",
       "      <td>0</td>\n",
       "      <td>...</td>\n",
       "      <td>0</td>\n",
       "      <td>0</td>\n",
       "      <td>0</td>\n",
       "      <td>0</td>\n",
       "      <td>0</td>\n",
       "      <td>0</td>\n",
       "      <td>0</td>\n",
       "      <td>0</td>\n",
       "      <td>0</td>\n",
       "      <td>0</td>\n",
       "    </tr>\n",
       "  </tbody>\n",
       "</table>\n",
       "<p>5 rows × 77888 columns</p>\n",
       "</div>"
      ],
      "text/plain": [
       "   0      1      2      3      4      5      6      7      8      9      ...  \\\n",
       "0      0      0      0      0      0      0      0      0      0      0  ...   \n",
       "1      0      0      0      0      0      0      0      0      0      0  ...   \n",
       "2      0      0      0      0      0      0      0      0      0      0  ...   \n",
       "3      0      0      0      0      0      0      0      0      0      0  ...   \n",
       "4      0      0      0      0      0      0      0      0      0      0  ...   \n",
       "\n",
       "   77878  77879  77880  77881  77882  77883  77884  77885  77886  77887  \n",
       "0      0      0      0      0      0      0      0      0      0      0  \n",
       "1      0      0      0      0      0      0      0      0      0      0  \n",
       "2      0      0      0      0      0      0      0      0      0      0  \n",
       "3      0      0      0      0      0      0      0      0      0      0  \n",
       "4      0      0      0      0      0      0      0      0      0      0  \n",
       "\n",
       "[5 rows x 77888 columns]"
      ]
     },
     "execution_count": 5,
     "metadata": {},
     "output_type": "execute_result"
    }
   ],
   "source": [
    "data.head()"
   ]
  },
  {
   "cell_type": "markdown",
   "id": "f204a864",
   "metadata": {},
   "source": [
    "В следущих нескольких ячейках будет попытка снизить размерность (довольно варварским способом), просто взяв топ 10000 столбцов, у которых наибольшая дисперсия, а остальные - дроп. Метод PCA у меня не сработал, так как память отказывается хранить такой большой numpy array"
   ]
  },
  {
   "cell_type": "code",
   "execution_count": 12,
   "id": "2ffb84bb",
   "metadata": {},
   "outputs": [],
   "source": [
    "data_densed = data.sparse.to_dense()"
   ]
  },
  {
   "cell_type": "code",
   "execution_count": 13,
   "id": "6b646a4b",
   "metadata": {},
   "outputs": [
    {
     "name": "stdout",
     "output_type": "stream",
     "text": [
      "          58591     44603     66053     41691     38281     15531     7719   \\\n",
      "0             0         0         0         0         0         0         0   \n",
      "1             0         0  0.022221         0         0         0  0.024052   \n",
      "2             0         0         0         0         0         0         0   \n",
      "3             0  0.043203  0.019456   0.07474         0  0.047673   0.02106   \n",
      "4             0  0.042362         0         0         0         0  0.082599   \n",
      "...         ...       ...       ...       ...       ...       ...       ...   \n",
      "14585  0.144568  0.062361         0         0         0         0         0   \n",
      "14586         0  0.014924  0.094095  0.034425  0.022464         0  0.058199   \n",
      "14587         0         0  0.062257         0         0         0         0   \n",
      "14588         0  0.031332   0.02822         0         0  0.069146  0.030545   \n",
      "14589   0.02437  0.015768  0.014202         0   0.04747         0  0.015373   \n",
      "\n",
      "          3911      46586     20592  ...  62745  46728  55527  20311  4068   \\\n",
      "0      0.041522         0  0.035696  ...      0      0      0      0      0   \n",
      "1             0         0         0  ...      0      0      0      0      0   \n",
      "2      0.038937         0  0.033474  ...      0      0      0      0      0   \n",
      "3             0  0.021699  0.066815  ...      0      0      0      0      0   \n",
      "4             0  0.042554         0  ...      0      0      0      0      0   \n",
      "...         ...       ...       ...  ...    ...    ...    ...    ...    ...   \n",
      "14585         0  0.031322         0  ...      0      0      0      0      0   \n",
      "14586  0.017898  0.044975  0.046161  ...      0      0      0      0      0   \n",
      "14587         0  0.034717         0  ...      0      0      0      0      0   \n",
      "14588         0  0.031473         0  ...      0      0      0      0      0   \n",
      "14589  0.037821         0         0  ...      0      0      0      0      0   \n",
      "\n",
      "       55932  43052  1627   28945  27361  \n",
      "0          0      0      0      0      0  \n",
      "1          0      0      0      0      0  \n",
      "2          0      0      0      0      0  \n",
      "3          0      0      0      0      0  \n",
      "4          0      0      0      0      0  \n",
      "...      ...    ...    ...    ...    ...  \n",
      "14585      0      0      0      0      0  \n",
      "14586      0      0      0      0      0  \n",
      "14587      0      0      0      0      0  \n",
      "14588      0      0      0      0      0  \n",
      "14589      0      0      0      0      0  \n",
      "\n",
      "[14590 rows x 10000 columns]\n"
     ]
    }
   ],
   "source": [
    "# Нахождение дисперсии для каждого столбца\n",
    "variance_per_column = data_densed.var()\n",
    "\n",
    "# Сортировка столбцов по убыванию дисперсии\n",
    "sorted_columns = variance_per_column.sort_values(ascending=False)\n",
    "\n",
    "# Выбор топ n столбцов\n",
    "n = 10000\n",
    "top_n_columns = sorted_columns.head(n)\n",
    "\n",
    "# Оставление только топ n столбцов в DataFrame\n",
    "data_top_n = pd.DataFrame(data[top_n_columns.index])\n",
    "\n",
    "print(data_top_n)"
   ]
  },
  {
   "cell_type": "code",
   "execution_count": 14,
   "id": "db618359",
   "metadata": {},
   "outputs": [
    {
     "data": {
      "text/plain": [
       "(14590, 10000)"
      ]
     },
     "execution_count": 14,
     "metadata": {},
     "output_type": "execute_result"
    }
   ],
   "source": [
    "data_top_n.shape"
   ]
  },
  {
   "cell_type": "code",
   "execution_count": 15,
   "id": "2922ba21",
   "metadata": {},
   "outputs": [
    {
     "data": {
      "text/html": [
       "<div>\n",
       "<style scoped>\n",
       "    .dataframe tbody tr th:only-of-type {\n",
       "        vertical-align: middle;\n",
       "    }\n",
       "\n",
       "    .dataframe tbody tr th {\n",
       "        vertical-align: top;\n",
       "    }\n",
       "\n",
       "    .dataframe thead th {\n",
       "        text-align: right;\n",
       "    }\n",
       "</style>\n",
       "<table border=\"1\" class=\"dataframe\">\n",
       "  <thead>\n",
       "    <tr style=\"text-align: right;\">\n",
       "      <th></th>\n",
       "      <th>58591</th>\n",
       "      <th>44603</th>\n",
       "      <th>66053</th>\n",
       "      <th>41691</th>\n",
       "      <th>38281</th>\n",
       "      <th>15531</th>\n",
       "      <th>7719</th>\n",
       "      <th>3911</th>\n",
       "      <th>46586</th>\n",
       "      <th>20592</th>\n",
       "      <th>...</th>\n",
       "      <th>62745</th>\n",
       "      <th>46728</th>\n",
       "      <th>55527</th>\n",
       "      <th>20311</th>\n",
       "      <th>4068</th>\n",
       "      <th>55932</th>\n",
       "      <th>43052</th>\n",
       "      <th>1627</th>\n",
       "      <th>28945</th>\n",
       "      <th>27361</th>\n",
       "    </tr>\n",
       "  </thead>\n",
       "  <tbody>\n",
       "    <tr>\n",
       "      <th>0</th>\n",
       "      <td>0</td>\n",
       "      <td>0</td>\n",
       "      <td>0</td>\n",
       "      <td>0</td>\n",
       "      <td>0</td>\n",
       "      <td>0</td>\n",
       "      <td>0</td>\n",
       "      <td>0.041522</td>\n",
       "      <td>0</td>\n",
       "      <td>0.035696</td>\n",
       "      <td>...</td>\n",
       "      <td>0</td>\n",
       "      <td>0</td>\n",
       "      <td>0</td>\n",
       "      <td>0</td>\n",
       "      <td>0</td>\n",
       "      <td>0</td>\n",
       "      <td>0</td>\n",
       "      <td>0</td>\n",
       "      <td>0</td>\n",
       "      <td>0</td>\n",
       "    </tr>\n",
       "    <tr>\n",
       "      <th>1</th>\n",
       "      <td>0</td>\n",
       "      <td>0</td>\n",
       "      <td>0.022221</td>\n",
       "      <td>0</td>\n",
       "      <td>0</td>\n",
       "      <td>0</td>\n",
       "      <td>0.024052</td>\n",
       "      <td>0</td>\n",
       "      <td>0</td>\n",
       "      <td>0</td>\n",
       "      <td>...</td>\n",
       "      <td>0</td>\n",
       "      <td>0</td>\n",
       "      <td>0</td>\n",
       "      <td>0</td>\n",
       "      <td>0</td>\n",
       "      <td>0</td>\n",
       "      <td>0</td>\n",
       "      <td>0</td>\n",
       "      <td>0</td>\n",
       "      <td>0</td>\n",
       "    </tr>\n",
       "    <tr>\n",
       "      <th>2</th>\n",
       "      <td>0</td>\n",
       "      <td>0</td>\n",
       "      <td>0</td>\n",
       "      <td>0</td>\n",
       "      <td>0</td>\n",
       "      <td>0</td>\n",
       "      <td>0</td>\n",
       "      <td>0.038937</td>\n",
       "      <td>0</td>\n",
       "      <td>0.033474</td>\n",
       "      <td>...</td>\n",
       "      <td>0</td>\n",
       "      <td>0</td>\n",
       "      <td>0</td>\n",
       "      <td>0</td>\n",
       "      <td>0</td>\n",
       "      <td>0</td>\n",
       "      <td>0</td>\n",
       "      <td>0</td>\n",
       "      <td>0</td>\n",
       "      <td>0</td>\n",
       "    </tr>\n",
       "    <tr>\n",
       "      <th>3</th>\n",
       "      <td>0</td>\n",
       "      <td>0.043203</td>\n",
       "      <td>0.019456</td>\n",
       "      <td>0.07474</td>\n",
       "      <td>0</td>\n",
       "      <td>0.047673</td>\n",
       "      <td>0.02106</td>\n",
       "      <td>0</td>\n",
       "      <td>0.021699</td>\n",
       "      <td>0.066815</td>\n",
       "      <td>...</td>\n",
       "      <td>0</td>\n",
       "      <td>0</td>\n",
       "      <td>0</td>\n",
       "      <td>0</td>\n",
       "      <td>0</td>\n",
       "      <td>0</td>\n",
       "      <td>0</td>\n",
       "      <td>0</td>\n",
       "      <td>0</td>\n",
       "      <td>0</td>\n",
       "    </tr>\n",
       "    <tr>\n",
       "      <th>4</th>\n",
       "      <td>0</td>\n",
       "      <td>0.042362</td>\n",
       "      <td>0</td>\n",
       "      <td>0</td>\n",
       "      <td>0</td>\n",
       "      <td>0</td>\n",
       "      <td>0.082599</td>\n",
       "      <td>0</td>\n",
       "      <td>0.042554</td>\n",
       "      <td>0</td>\n",
       "      <td>...</td>\n",
       "      <td>0</td>\n",
       "      <td>0</td>\n",
       "      <td>0</td>\n",
       "      <td>0</td>\n",
       "      <td>0</td>\n",
       "      <td>0</td>\n",
       "      <td>0</td>\n",
       "      <td>0</td>\n",
       "      <td>0</td>\n",
       "      <td>0</td>\n",
       "    </tr>\n",
       "    <tr>\n",
       "      <th>...</th>\n",
       "      <td>...</td>\n",
       "      <td>...</td>\n",
       "      <td>...</td>\n",
       "      <td>...</td>\n",
       "      <td>...</td>\n",
       "      <td>...</td>\n",
       "      <td>...</td>\n",
       "      <td>...</td>\n",
       "      <td>...</td>\n",
       "      <td>...</td>\n",
       "      <td>...</td>\n",
       "      <td>...</td>\n",
       "      <td>...</td>\n",
       "      <td>...</td>\n",
       "      <td>...</td>\n",
       "      <td>...</td>\n",
       "      <td>...</td>\n",
       "      <td>...</td>\n",
       "      <td>...</td>\n",
       "      <td>...</td>\n",
       "      <td>...</td>\n",
       "    </tr>\n",
       "    <tr>\n",
       "      <th>14585</th>\n",
       "      <td>0.144568</td>\n",
       "      <td>0.062361</td>\n",
       "      <td>0</td>\n",
       "      <td>0</td>\n",
       "      <td>0</td>\n",
       "      <td>0</td>\n",
       "      <td>0</td>\n",
       "      <td>0</td>\n",
       "      <td>0.031322</td>\n",
       "      <td>0</td>\n",
       "      <td>...</td>\n",
       "      <td>0</td>\n",
       "      <td>0</td>\n",
       "      <td>0</td>\n",
       "      <td>0</td>\n",
       "      <td>0</td>\n",
       "      <td>0</td>\n",
       "      <td>0</td>\n",
       "      <td>0</td>\n",
       "      <td>0</td>\n",
       "      <td>0</td>\n",
       "    </tr>\n",
       "    <tr>\n",
       "      <th>14586</th>\n",
       "      <td>0</td>\n",
       "      <td>0.014924</td>\n",
       "      <td>0.094095</td>\n",
       "      <td>0.034425</td>\n",
       "      <td>0.022464</td>\n",
       "      <td>0</td>\n",
       "      <td>0.058199</td>\n",
       "      <td>0.017898</td>\n",
       "      <td>0.044975</td>\n",
       "      <td>0.046161</td>\n",
       "      <td>...</td>\n",
       "      <td>0</td>\n",
       "      <td>0</td>\n",
       "      <td>0</td>\n",
       "      <td>0</td>\n",
       "      <td>0</td>\n",
       "      <td>0</td>\n",
       "      <td>0</td>\n",
       "      <td>0</td>\n",
       "      <td>0</td>\n",
       "      <td>0</td>\n",
       "    </tr>\n",
       "    <tr>\n",
       "      <th>14587</th>\n",
       "      <td>0</td>\n",
       "      <td>0</td>\n",
       "      <td>0.062257</td>\n",
       "      <td>0</td>\n",
       "      <td>0</td>\n",
       "      <td>0</td>\n",
       "      <td>0</td>\n",
       "      <td>0</td>\n",
       "      <td>0.034717</td>\n",
       "      <td>0</td>\n",
       "      <td>...</td>\n",
       "      <td>0</td>\n",
       "      <td>0</td>\n",
       "      <td>0</td>\n",
       "      <td>0</td>\n",
       "      <td>0</td>\n",
       "      <td>0</td>\n",
       "      <td>0</td>\n",
       "      <td>0</td>\n",
       "      <td>0</td>\n",
       "      <td>0</td>\n",
       "    </tr>\n",
       "    <tr>\n",
       "      <th>14588</th>\n",
       "      <td>0</td>\n",
       "      <td>0.031332</td>\n",
       "      <td>0.02822</td>\n",
       "      <td>0</td>\n",
       "      <td>0</td>\n",
       "      <td>0.069146</td>\n",
       "      <td>0.030545</td>\n",
       "      <td>0</td>\n",
       "      <td>0.031473</td>\n",
       "      <td>0</td>\n",
       "      <td>...</td>\n",
       "      <td>0</td>\n",
       "      <td>0</td>\n",
       "      <td>0</td>\n",
       "      <td>0</td>\n",
       "      <td>0</td>\n",
       "      <td>0</td>\n",
       "      <td>0</td>\n",
       "      <td>0</td>\n",
       "      <td>0</td>\n",
       "      <td>0</td>\n",
       "    </tr>\n",
       "    <tr>\n",
       "      <th>14589</th>\n",
       "      <td>0.02437</td>\n",
       "      <td>0.015768</td>\n",
       "      <td>0.014202</td>\n",
       "      <td>0</td>\n",
       "      <td>0.04747</td>\n",
       "      <td>0</td>\n",
       "      <td>0.015373</td>\n",
       "      <td>0.037821</td>\n",
       "      <td>0</td>\n",
       "      <td>0</td>\n",
       "      <td>...</td>\n",
       "      <td>0</td>\n",
       "      <td>0</td>\n",
       "      <td>0</td>\n",
       "      <td>0</td>\n",
       "      <td>0</td>\n",
       "      <td>0</td>\n",
       "      <td>0</td>\n",
       "      <td>0</td>\n",
       "      <td>0</td>\n",
       "      <td>0</td>\n",
       "    </tr>\n",
       "  </tbody>\n",
       "</table>\n",
       "<p>14590 rows × 10000 columns</p>\n",
       "</div>"
      ],
      "text/plain": [
       "          58591     44603     66053     41691     38281     15531     7719   \\\n",
       "0             0         0         0         0         0         0         0   \n",
       "1             0         0  0.022221         0         0         0  0.024052   \n",
       "2             0         0         0         0         0         0         0   \n",
       "3             0  0.043203  0.019456   0.07474         0  0.047673   0.02106   \n",
       "4             0  0.042362         0         0         0         0  0.082599   \n",
       "...         ...       ...       ...       ...       ...       ...       ...   \n",
       "14585  0.144568  0.062361         0         0         0         0         0   \n",
       "14586         0  0.014924  0.094095  0.034425  0.022464         0  0.058199   \n",
       "14587         0         0  0.062257         0         0         0         0   \n",
       "14588         0  0.031332   0.02822         0         0  0.069146  0.030545   \n",
       "14589   0.02437  0.015768  0.014202         0   0.04747         0  0.015373   \n",
       "\n",
       "          3911      46586     20592  ...  62745  46728  55527  20311  4068   \\\n",
       "0      0.041522         0  0.035696  ...      0      0      0      0      0   \n",
       "1             0         0         0  ...      0      0      0      0      0   \n",
       "2      0.038937         0  0.033474  ...      0      0      0      0      0   \n",
       "3             0  0.021699  0.066815  ...      0      0      0      0      0   \n",
       "4             0  0.042554         0  ...      0      0      0      0      0   \n",
       "...         ...       ...       ...  ...    ...    ...    ...    ...    ...   \n",
       "14585         0  0.031322         0  ...      0      0      0      0      0   \n",
       "14586  0.017898  0.044975  0.046161  ...      0      0      0      0      0   \n",
       "14587         0  0.034717         0  ...      0      0      0      0      0   \n",
       "14588         0  0.031473         0  ...      0      0      0      0      0   \n",
       "14589  0.037821         0         0  ...      0      0      0      0      0   \n",
       "\n",
       "       55932  43052  1627   28945  27361  \n",
       "0          0      0      0      0      0  \n",
       "1          0      0      0      0      0  \n",
       "2          0      0      0      0      0  \n",
       "3          0      0      0      0      0  \n",
       "4          0      0      0      0      0  \n",
       "...      ...    ...    ...    ...    ...  \n",
       "14585      0      0      0      0      0  \n",
       "14586      0      0      0      0      0  \n",
       "14587      0      0      0      0      0  \n",
       "14588      0      0      0      0      0  \n",
       "14589      0      0      0      0      0  \n",
       "\n",
       "[14590 rows x 10000 columns]"
      ]
     },
     "execution_count": 15,
     "metadata": {},
     "output_type": "execute_result"
    }
   ],
   "source": [
    "data_top_n"
   ]
  },
  {
   "cell_type": "markdown",
   "id": "5b642137",
   "metadata": {},
   "source": [
    "## Попробуем обучить с помощью KMeans"
   ]
  },
  {
   "cell_type": "code",
   "execution_count": 30,
   "id": "d33a7100",
   "metadata": {},
   "outputs": [],
   "source": [
    "kmeans = KMeans(n_clusters=5)"
   ]
  },
  {
   "cell_type": "code",
   "execution_count": 31,
   "id": "b2f1e1fc",
   "metadata": {},
   "outputs": [
    {
     "name": "stderr",
     "output_type": "stream",
     "text": [
      "/opt/anaconda3/envs/work/lib/python3.10/site-packages/sklearn/cluster/_kmeans.py:870: FutureWarning: The default value of `n_init` will change from 10 to 'auto' in 1.4. Set the value of `n_init` explicitly to suppress the warning\n",
      "  warnings.warn(\n"
     ]
    },
    {
     "data": {
      "text/html": [
       "<style>#sk-container-id-7 {color: black;background-color: white;}#sk-container-id-7 pre{padding: 0;}#sk-container-id-7 div.sk-toggleable {background-color: white;}#sk-container-id-7 label.sk-toggleable__label {cursor: pointer;display: block;width: 100%;margin-bottom: 0;padding: 0.3em;box-sizing: border-box;text-align: center;}#sk-container-id-7 label.sk-toggleable__label-arrow:before {content: \"▸\";float: left;margin-right: 0.25em;color: #696969;}#sk-container-id-7 label.sk-toggleable__label-arrow:hover:before {color: black;}#sk-container-id-7 div.sk-estimator:hover label.sk-toggleable__label-arrow:before {color: black;}#sk-container-id-7 div.sk-toggleable__content {max-height: 0;max-width: 0;overflow: hidden;text-align: left;background-color: #f0f8ff;}#sk-container-id-7 div.sk-toggleable__content pre {margin: 0.2em;color: black;border-radius: 0.25em;background-color: #f0f8ff;}#sk-container-id-7 input.sk-toggleable__control:checked~div.sk-toggleable__content {max-height: 200px;max-width: 100%;overflow: auto;}#sk-container-id-7 input.sk-toggleable__control:checked~label.sk-toggleable__label-arrow:before {content: \"▾\";}#sk-container-id-7 div.sk-estimator input.sk-toggleable__control:checked~label.sk-toggleable__label {background-color: #d4ebff;}#sk-container-id-7 div.sk-label input.sk-toggleable__control:checked~label.sk-toggleable__label {background-color: #d4ebff;}#sk-container-id-7 input.sk-hidden--visually {border: 0;clip: rect(1px 1px 1px 1px);clip: rect(1px, 1px, 1px, 1px);height: 1px;margin: -1px;overflow: hidden;padding: 0;position: absolute;width: 1px;}#sk-container-id-7 div.sk-estimator {font-family: monospace;background-color: #f0f8ff;border: 1px dotted black;border-radius: 0.25em;box-sizing: border-box;margin-bottom: 0.5em;}#sk-container-id-7 div.sk-estimator:hover {background-color: #d4ebff;}#sk-container-id-7 div.sk-parallel-item::after {content: \"\";width: 100%;border-bottom: 1px solid gray;flex-grow: 1;}#sk-container-id-7 div.sk-label:hover label.sk-toggleable__label {background-color: #d4ebff;}#sk-container-id-7 div.sk-serial::before {content: \"\";position: absolute;border-left: 1px solid gray;box-sizing: border-box;top: 0;bottom: 0;left: 50%;z-index: 0;}#sk-container-id-7 div.sk-serial {display: flex;flex-direction: column;align-items: center;background-color: white;padding-right: 0.2em;padding-left: 0.2em;position: relative;}#sk-container-id-7 div.sk-item {position: relative;z-index: 1;}#sk-container-id-7 div.sk-parallel {display: flex;align-items: stretch;justify-content: center;background-color: white;position: relative;}#sk-container-id-7 div.sk-item::before, #sk-container-id-7 div.sk-parallel-item::before {content: \"\";position: absolute;border-left: 1px solid gray;box-sizing: border-box;top: 0;bottom: 0;left: 50%;z-index: -1;}#sk-container-id-7 div.sk-parallel-item {display: flex;flex-direction: column;z-index: 1;position: relative;background-color: white;}#sk-container-id-7 div.sk-parallel-item:first-child::after {align-self: flex-end;width: 50%;}#sk-container-id-7 div.sk-parallel-item:last-child::after {align-self: flex-start;width: 50%;}#sk-container-id-7 div.sk-parallel-item:only-child::after {width: 0;}#sk-container-id-7 div.sk-dashed-wrapped {border: 1px dashed gray;margin: 0 0.4em 0.5em 0.4em;box-sizing: border-box;padding-bottom: 0.4em;background-color: white;}#sk-container-id-7 div.sk-label label {font-family: monospace;font-weight: bold;display: inline-block;line-height: 1.2em;}#sk-container-id-7 div.sk-label-container {text-align: center;}#sk-container-id-7 div.sk-container {/* jupyter's `normalize.less` sets `[hidden] { display: none; }` but bootstrap.min.css set `[hidden] { display: none !important; }` so we also need the `!important` here to be able to override the default hidden behavior on the sphinx rendered scikit-learn.org. See: https://github.com/scikit-learn/scikit-learn/issues/21755 */display: inline-block !important;position: relative;}#sk-container-id-7 div.sk-text-repr-fallback {display: none;}</style><div id=\"sk-container-id-7\" class=\"sk-top-container\"><div class=\"sk-text-repr-fallback\"><pre>KMeans(n_clusters=5)</pre><b>In a Jupyter environment, please rerun this cell to show the HTML representation or trust the notebook. <br />On GitHub, the HTML representation is unable to render, please try loading this page with nbviewer.org.</b></div><div class=\"sk-container\" hidden><div class=\"sk-item\"><div class=\"sk-estimator sk-toggleable\"><input class=\"sk-toggleable__control sk-hidden--visually\" id=\"sk-estimator-id-7\" type=\"checkbox\" checked><label for=\"sk-estimator-id-7\" class=\"sk-toggleable__label sk-toggleable__label-arrow\">KMeans</label><div class=\"sk-toggleable__content\"><pre>KMeans(n_clusters=5)</pre></div></div></div></div></div>"
      ],
      "text/plain": [
       "KMeans(n_clusters=5)"
      ]
     },
     "execution_count": 31,
     "metadata": {},
     "output_type": "execute_result"
    }
   ],
   "source": [
    "kmeans.fit(data_top_n)\n",
    "# kmeans.labels_"
   ]
  },
  {
   "cell_type": "markdown",
   "id": "3d76b633",
   "metadata": {},
   "source": [
    "Посмотрим на распределение кластеров"
   ]
  },
  {
   "cell_type": "code",
   "execution_count": 32,
   "id": "6fd04cd1",
   "metadata": {},
   "outputs": [
    {
     "data": {
      "text/plain": [
       "<Axes: ylabel='Count'>"
      ]
     },
     "execution_count": 32,
     "metadata": {},
     "output_type": "execute_result"
    },
    {
     "data": {
      "image/png": "[encoded data removed]",
      "text/plain": [
       "<Figure size 640x480 with 1 Axes>"
      ]
     },
     "metadata": {},
     "output_type": "display_data"
    }
   ],
   "source": [
    "labels = kmeans.labels_\n",
    "sns.histplot(kmeans.labels_)"
   ]
  },
  {
   "cell_type": "markdown",
   "id": "3b0ba794",
   "metadata": {},
   "source": [
    "Сформируем ответ"
   ]
  },
  {
   "cell_type": "code",
   "execution_count": 33,
   "id": "1e237adf",
   "metadata": {},
   "outputs": [],
   "source": [
    "ans = pd.DataFrame()\n",
    "ans['ID'] = [i for i in range(len(labels))]\n",
    "ans['TARGET'] = labels"
   ]
  },
  {
   "cell_type": "code",
   "execution_count": 34,
   "id": "abb47fbc",
   "metadata": {},
   "outputs": [
    {
     "data": {
      "text/html": [
       "<div>\n",
       "<style scoped>\n",
       "    .dataframe tbody tr th:only-of-type {\n",
       "        vertical-align: middle;\n",
       "    }\n",
       "\n",
       "    .dataframe tbody tr th {\n",
       "        vertical-align: top;\n",
       "    }\n",
       "\n",
       "    .dataframe thead th {\n",
       "        text-align: right;\n",
       "    }\n",
       "</style>\n",
       "<table border=\"1\" class=\"dataframe\">\n",
       "  <thead>\n",
       "    <tr style=\"text-align: right;\">\n",
       "      <th></th>\n",
       "      <th>ID</th>\n",
       "      <th>TARGET</th>\n",
       "    </tr>\n",
       "  </thead>\n",
       "  <tbody>\n",
       "    <tr>\n",
       "      <th>0</th>\n",
       "      <td>0</td>\n",
       "      <td>2</td>\n",
       "    </tr>\n",
       "    <tr>\n",
       "      <th>1</th>\n",
       "      <td>1</td>\n",
       "      <td>2</td>\n",
       "    </tr>\n",
       "    <tr>\n",
       "      <th>2</th>\n",
       "      <td>2</td>\n",
       "      <td>4</td>\n",
       "    </tr>\n",
       "    <tr>\n",
       "      <th>3</th>\n",
       "      <td>3</td>\n",
       "      <td>0</td>\n",
       "    </tr>\n",
       "    <tr>\n",
       "      <th>4</th>\n",
       "      <td>4</td>\n",
       "      <td>4</td>\n",
       "    </tr>\n",
       "  </tbody>\n",
       "</table>\n",
       "</div>"
      ],
      "text/plain": [
       "   ID  TARGET\n",
       "0   0       2\n",
       "1   1       2\n",
       "2   2       4\n",
       "3   3       0\n",
       "4   4       4"
      ]
     },
     "execution_count": 34,
     "metadata": {},
     "output_type": "execute_result"
    }
   ],
   "source": [
    "ans.head()"
   ]
  },
  {
   "cell_type": "code",
   "execution_count": 36,
   "id": "fa65510e",
   "metadata": {},
   "outputs": [],
   "source": [
    "ans.to_csv('ans14.csv')"
   ]
  },
  {
   "attachments": {
    "image.png": {
     "image/png": "[encoded data removed]"
    }
   },
   "cell_type": "markdown",
   "id": "39dcf77e",
   "metadata": {},
   "source": [
    "![image.png](attachment:image.png)\n",
    "\n",
    "Как видим - ничего не вышло :(\n",
    "Оно и логично - во-первых, мы не знаем сколько кластеров, во-вторых, KMeans рандомно выбирает центроиды и, видимо, выбрал не очень удачно\n",
    "\n",
    "Попробуем плотностные методы\n",
    "\n",
    "P.S. Этот метод в конечном итоге оказался лучшим, я просто несколько раз попробовал обучать модель и в силу рандомности выбора центроидов получились метрики получше, причем лучше, чем на всех других моделях далее"
   ]
  },
  {
   "cell_type": "code",
   "execution_count": null,
   "id": "224f149b",
   "metadata": {},
   "outputs": [],
   "source": [
    "model_hd = hdbscan.HDBSCAN().fit(data_top_n)\n",
    "labels_hd = model_hd.labels_"
   ]
  },
  {
   "cell_type": "code",
   "execution_count": 16,
   "id": "563b42f8",
   "metadata": {},
   "outputs": [
    {
     "data": {
      "text/plain": [
       "{-1, 0, 1}"
      ]
     },
     "execution_count": 16,
     "metadata": {},
     "output_type": "execute_result"
    }
   ],
   "source": [
    "set(labels_hd)\n"
   ]
  },
  {
   "cell_type": "code",
   "execution_count": 17,
   "id": "ca691182",
   "metadata": {},
   "outputs": [
    {
     "name": "stderr",
     "output_type": "stream",
     "text": [
      "/var/folders/jk/wmbjw1_d1tlbkns604pznpfr0000gn/T/ipykernel_19646/861856265.py:1: UserWarning: \n",
      "\n",
      "`distplot` is a deprecated function and will be removed in seaborn v0.14.0.\n",
      "\n",
      "Please adapt your code to use either `displot` (a figure-level function with\n",
      "similar flexibility) or `histplot` (an axes-level function for histograms).\n",
      "\n",
      "For a guide to updating your code to use the new functions, please see\n",
      "https://gist.github.com/mwaskom/de44147ed2974457ad6372750bbe5751\n",
      "\n",
      "  sns.distplot(labels_hd)\n"
     ]
    },
    {
     "data": {
      "text/plain": [
       "<Axes: ylabel='Density'>"
      ]
     },
     "execution_count": 17,
     "metadata": {},
     "output_type": "execute_result"
    },
    {
     "data": {
      "image/png": "[encoded data removed]",
      "text/plain": [
       "<Figure size 640x480 with 1 Axes>"
      ]
     },
     "metadata": {},
     "output_type": "display_data"
    }
   ],
   "source": [
    "sns.distplot(labels_hd)"
   ]
  },
  {
   "cell_type": "markdown",
   "id": "645060fb",
   "metadata": {},
   "source": [
    "Получилось 3 кластера. но по графику будто бы 2"
   ]
  },
  {
   "cell_type": "code",
   "execution_count": 61,
   "id": "5f63672c",
   "metadata": {},
   "outputs": [],
   "source": [
    "ans_hd = pd.DataFrame()\n",
    "ans_hd['ID'] = [i for i in range(len(labels_hd))]\n",
    "ans_hd['TARGET'] = labels_hd"
   ]
  },
  {
   "cell_type": "code",
   "execution_count": 64,
   "id": "c3669941",
   "metadata": {},
   "outputs": [
    {
     "data": {
      "text/html": [
       "<div>\n",
       "<style scoped>\n",
       "    .dataframe tbody tr th:only-of-type {\n",
       "        vertical-align: middle;\n",
       "    }\n",
       "\n",
       "    .dataframe tbody tr th {\n",
       "        vertical-align: top;\n",
       "    }\n",
       "\n",
       "    .dataframe thead th {\n",
       "        text-align: right;\n",
       "    }\n",
       "</style>\n",
       "<table border=\"1\" class=\"dataframe\">\n",
       "  <thead>\n",
       "    <tr style=\"text-align: right;\">\n",
       "      <th></th>\n",
       "      <th>ID</th>\n",
       "      <th>TARGET</th>\n",
       "    </tr>\n",
       "  </thead>\n",
       "  <tbody>\n",
       "    <tr>\n",
       "      <th>0</th>\n",
       "      <td>0</td>\n",
       "      <td>-1</td>\n",
       "    </tr>\n",
       "    <tr>\n",
       "      <th>1</th>\n",
       "      <td>1</td>\n",
       "      <td>0</td>\n",
       "    </tr>\n",
       "    <tr>\n",
       "      <th>2</th>\n",
       "      <td>2</td>\n",
       "      <td>-1</td>\n",
       "    </tr>\n",
       "    <tr>\n",
       "      <th>3</th>\n",
       "      <td>3</td>\n",
       "      <td>0</td>\n",
       "    </tr>\n",
       "    <tr>\n",
       "      <th>4</th>\n",
       "      <td>4</td>\n",
       "      <td>-1</td>\n",
       "    </tr>\n",
       "  </tbody>\n",
       "</table>\n",
       "</div>"
      ],
      "text/plain": [
       "   ID  TARGET\n",
       "0   0      -1\n",
       "1   1       0\n",
       "2   2      -1\n",
       "3   3       0\n",
       "4   4      -1"
      ]
     },
     "execution_count": 64,
     "metadata": {},
     "output_type": "execute_result"
    }
   ],
   "source": [
    "ans_hd.head()"
   ]
  },
  {
   "cell_type": "code",
   "execution_count": 65,
   "id": "e3ac8e38",
   "metadata": {},
   "outputs": [],
   "source": [
    "ans_hd.to_csv('ans2_hd.csv')"
   ]
  },
  {
   "attachments": {
    "image.png": {
     "image/png": "[encoded data removed]"
    }
   },
   "cell_type": "markdown",
   "id": "c940241b",
   "metadata": {},
   "source": [
    "![image.png](attachment:image.png)\n",
    "\n",
    "Все еще не очень - пробуем дальше"
   ]
  },
  {
   "cell_type": "code",
   "execution_count": 70,
   "id": "4d5e2c66",
   "metadata": {},
   "outputs": [
    {
     "data": {
      "text/plain": [
       "array([-1, -1, -1, ..., -1, -1, -1])"
      ]
     },
     "execution_count": 70,
     "metadata": {},
     "output_type": "execute_result"
    }
   ],
   "source": [
    "dbscan = DBSCAN().fit(data)\n",
    "dbscan.labels_"
   ]
  },
  {
   "cell_type": "code",
   "execution_count": 71,
   "id": "3af2fb18",
   "metadata": {},
   "outputs": [
    {
     "data": {
      "text/plain": [
       "{-1}"
      ]
     },
     "execution_count": 71,
     "metadata": {},
     "output_type": "execute_result"
    }
   ],
   "source": [
    "set(dbscan.labels_)"
   ]
  },
  {
   "cell_type": "markdown",
   "id": "0f2ebc34",
   "metadata": {},
   "source": [
    "При таких параметрах dbscan выдает вообще 1 кластер, позже попробую поиграться с параметрами"
   ]
  },
  {
   "cell_type": "code",
   "execution_count": 4,
   "id": "6e51430b",
   "metadata": {},
   "outputs": [],
   "source": [
    "sc = SpectralClustering(n_clusters=2)"
   ]
  },
  {
   "cell_type": "code",
   "execution_count": null,
   "id": "ee7fc581",
   "metadata": {},
   "outputs": [],
   "source": [
    "sc.fit(data)"
   ]
  },
  {
   "cell_type": "code",
   "execution_count": 21,
   "id": "47dd6da8",
   "metadata": {},
   "outputs": [
    {
     "data": {
      "text/plain": [
       "{0, 1}"
      ]
     },
     "execution_count": 21,
     "metadata": {},
     "output_type": "execute_result"
    }
   ],
   "source": [
    "set(sc.labels_)"
   ]
  },
  {
   "cell_type": "code",
   "execution_count": 22,
   "id": "62580d36",
   "metadata": {},
   "outputs": [
    {
     "name": "stderr",
     "output_type": "stream",
     "text": [
      "/var/folders/jk/wmbjw1_d1tlbkns604pznpfr0000gn/T/ipykernel_19646/3460582057.py:1: UserWarning: \n",
      "\n",
      "`distplot` is a deprecated function and will be removed in seaborn v0.14.0.\n",
      "\n",
      "Please adapt your code to use either `displot` (a figure-level function with\n",
      "similar flexibility) or `histplot` (an axes-level function for histograms).\n",
      "\n",
      "For a guide to updating your code to use the new functions, please see\n",
      "https://gist.github.com/mwaskom/de44147ed2974457ad6372750bbe5751\n",
      "\n",
      "  sns.distplot(sc.labels_)\n"
     ]
    },
    {
     "data": {
      "text/plain": [
       "<Axes: ylabel='Density'>"
      ]
     },
     "execution_count": 22,
     "metadata": {},
     "output_type": "execute_result"
    },
    {
     "data": {
      "image/png": "[encoded data removed]",
      "text/plain": [
       "<Figure size 640x480 with 1 Axes>"
      ]
     },
     "metadata": {},
     "output_type": "display_data"
    }
   ],
   "source": [
    "sns.distplot(sc.labels_)"
   ]
  },
  {
   "cell_type": "code",
   "execution_count": 25,
   "id": "d4e9094a",
   "metadata": {},
   "outputs": [],
   "source": [
    "sc2 = SpectralClustering(n_clusters=3).fit(data)"
   ]
  },
  {
   "cell_type": "code",
   "execution_count": 26,
   "id": "fcb9c1a2",
   "metadata": {},
   "outputs": [
    {
     "name": "stderr",
     "output_type": "stream",
     "text": [
      "/var/folders/jk/wmbjw1_d1tlbkns604pznpfr0000gn/T/ipykernel_19646/361073707.py:1: UserWarning: \n",
      "\n",
      "`distplot` is a deprecated function and will be removed in seaborn v0.14.0.\n",
      "\n",
      "Please adapt your code to use either `displot` (a figure-level function with\n",
      "similar flexibility) or `histplot` (an axes-level function for histograms).\n",
      "\n",
      "For a guide to updating your code to use the new functions, please see\n",
      "https://gist.github.com/mwaskom/de44147ed2974457ad6372750bbe5751\n",
      "\n",
      "  sns.distplot(sc2.labels_)\n"
     ]
    },
    {
     "data": {
      "text/plain": [
       "<Axes: ylabel='Density'>"
      ]
     },
     "execution_count": 26,
     "metadata": {},
     "output_type": "execute_result"
    },
    {
     "data": {
      "image/png": "[encoded data removed]",
      "text/plain": [
       "<Figure size 640x480 with 1 Axes>"
      ]
     },
     "metadata": {},
     "output_type": "display_data"
    }
   ],
   "source": [
    "sns.distplot(sc2.labels_)"
   ]
  },
  {
   "cell_type": "code",
   "execution_count": 27,
   "id": "be54a83d",
   "metadata": {},
   "outputs": [
    {
     "name": "stderr",
     "output_type": "stream",
     "text": [
      "/var/folders/jk/wmbjw1_d1tlbkns604pznpfr0000gn/T/ipykernel_19646/1588402249.py:2: UserWarning: \n",
      "\n",
      "`distplot` is a deprecated function and will be removed in seaborn v0.14.0.\n",
      "\n",
      "Please adapt your code to use either `displot` (a figure-level function with\n",
      "similar flexibility) or `histplot` (an axes-level function for histograms).\n",
      "\n",
      "For a guide to updating your code to use the new functions, please see\n",
      "https://gist.github.com/mwaskom/de44147ed2974457ad6372750bbe5751\n",
      "\n",
      "  sns.distplot(sc3.labels_)\n"
     ]
    },
    {
     "data": {
      "text/plain": [
       "<Axes: ylabel='Density'>"
      ]
     },
     "execution_count": 27,
     "metadata": {},
     "output_type": "execute_result"
    },
    {
     "data": {
      "image/png": "[encoded data removed]",
      "text/plain": [
       "<Figure size 640x480 with 1 Axes>"
      ]
     },
     "metadata": {},
     "output_type": "display_data"
    }
   ],
   "source": [
    "sc3 = SpectralClustering(n_clusters=4).fit(data)\n",
    "sns.distplot(sc3.labels_)"
   ]
  },
  {
   "cell_type": "code",
   "execution_count": null,
   "id": "6879a170",
   "metadata": {},
   "outputs": [],
   "source": [
    "sc4 = SpectralClustering(n_clusters=5).fit(data_top_n)\n",
    "sns.distplot(sc4.labels_)"
   ]
  },
  {
   "cell_type": "code",
   "execution_count": 30,
   "id": "1ade646b",
   "metadata": {},
   "outputs": [],
   "source": [
    "ans_sc = pd.DataFrame()\n",
    "ans_sc['ID'] = [i for i in range(len(sc.labels_))]\n",
    "ans_sc['TARGET'] = sc.labels_\n",
    "ans_sc.to_csv('ans3.csv')"
   ]
  },
  {
   "attachments": {
    "image.png": {
     "image/png": "[encoded data removed]"
    }
   },
   "cell_type": "markdown",
   "id": "b5f2d00b",
   "metadata": {},
   "source": [
    "![image.png](attachment:image.png)\n",
    "\n",
    "Это 2 кластера"
   ]
  },
  {
   "cell_type": "code",
   "execution_count": 31,
   "id": "d2a890ae",
   "metadata": {},
   "outputs": [],
   "source": [
    "ans_sc2 = pd.DataFrame()\n",
    "ans_sc2['ID'] = [i for i in range(len(sc2.labels_))]\n",
    "ans_sc2['TARGET'] = sc2.labels_\n",
    "ans_sc2.to_csv('ans4.csv')"
   ]
  },
  {
   "attachments": {
    "image.png": {
     "image/png": "[encoded data removed]"
    }
   },
   "cell_type": "markdown",
   "id": "a00d3507",
   "metadata": {},
   "source": [
    "![image.png](attachment:image.png)\n",
    "\n",
    "Это 3 кластера"
   ]
  },
  {
   "cell_type": "code",
   "execution_count": 32,
   "id": "ff35acca",
   "metadata": {},
   "outputs": [],
   "source": [
    "ans_sc3 = pd.DataFrame()\n",
    "ans_sc3['ID'] = [i for i in range(len(sc3.labels_))]\n",
    "ans_sc3['TARGET'] = sc3.labels_\n",
    "ans_sc3.to_csv('ans5.csv')"
   ]
  },
  {
   "attachments": {
    "image.png": {
     "image/png": "[encoded data removed]"
    }
   },
   "cell_type": "markdown",
   "id": "fb82d7f7",
   "metadata": {},
   "source": [
    "![image.png](attachment:image.png)\n",
    "\n",
    "Это 4 кластера, стало еще хуже"
   ]
  },
  {
   "cell_type": "code",
   "execution_count": 33,
   "id": "7291e9fd",
   "metadata": {},
   "outputs": [],
   "source": [
    "ans_sc4 = pd.DataFrame()\n",
    "ans_sc4['ID'] = [i for i in range(len(sc4.labels_))]\n",
    "ans_sc4['TARGET'] = sc4.labels_\n",
    "ans_sc4.to_csv('ans6.csv')"
   ]
  },
  {
   "attachments": {
    "image.png": {
     "image/png": "[encoded data removed]"
    }
   },
   "cell_type": "markdown",
   "id": "f4dbc4a6",
   "metadata": {},
   "source": [
    "![image.png](attachment:image.png)\n",
    "\n",
    "Это 5 кластеров, тоже плохо"
   ]
  },
  {
   "cell_type": "code",
   "execution_count": null,
   "id": "469eb482",
   "metadata": {},
   "outputs": [],
   "source": [
    "sc5 = SpectralClustering(n_clusters=6).fit(data)\n",
    "sns.distplot(sc5.labels_)"
   ]
  },
  {
   "cell_type": "markdown",
   "id": "5dfc48ba",
   "metadata": {},
   "source": [
    "Здесь снова попытки снизить размерность"
   ]
  },
  {
   "cell_type": "code",
   "execution_count": 32,
   "id": "9db04343",
   "metadata": {},
   "outputs": [],
   "source": [
    "svd = TruncatedSVD(n_components=1000)\n",
    "reduced_data = pd.DataFrame(svd.fit_transform(data))"
   ]
  },
  {
   "cell_type": "code",
   "execution_count": 33,
   "id": "e81f81f2",
   "metadata": {},
   "outputs": [
    {
     "data": {
      "text/html": [
       "<div>\n",
       "<style scoped>\n",
       "    .dataframe tbody tr th:only-of-type {\n",
       "        vertical-align: middle;\n",
       "    }\n",
       "\n",
       "    .dataframe tbody tr th {\n",
       "        vertical-align: top;\n",
       "    }\n",
       "\n",
       "    .dataframe thead th {\n",
       "        text-align: right;\n",
       "    }\n",
       "</style>\n",
       "<table border=\"1\" class=\"dataframe\">\n",
       "  <thead>\n",
       "    <tr style=\"text-align: right;\">\n",
       "      <th></th>\n",
       "      <th>0</th>\n",
       "      <th>1</th>\n",
       "      <th>2</th>\n",
       "      <th>3</th>\n",
       "      <th>4</th>\n",
       "      <th>5</th>\n",
       "      <th>6</th>\n",
       "      <th>7</th>\n",
       "      <th>8</th>\n",
       "      <th>9</th>\n",
       "      <th>...</th>\n",
       "      <th>990</th>\n",
       "      <th>991</th>\n",
       "      <th>992</th>\n",
       "      <th>993</th>\n",
       "      <th>994</th>\n",
       "      <th>995</th>\n",
       "      <th>996</th>\n",
       "      <th>997</th>\n",
       "      <th>998</th>\n",
       "      <th>999</th>\n",
       "    </tr>\n",
       "  </thead>\n",
       "  <tbody>\n",
       "    <tr>\n",
       "      <th>0</th>\n",
       "      <td>0.091196</td>\n",
       "      <td>0.001533</td>\n",
       "      <td>-0.023271</td>\n",
       "      <td>-0.044381</td>\n",
       "      <td>0.020554</td>\n",
       "      <td>-0.020416</td>\n",
       "      <td>-0.012325</td>\n",
       "      <td>-0.004180</td>\n",
       "      <td>0.027998</td>\n",
       "      <td>0.000091</td>\n",
       "      <td>...</td>\n",
       "      <td>-0.008724</td>\n",
       "      <td>0.040690</td>\n",
       "      <td>-0.025221</td>\n",
       "      <td>0.004386</td>\n",
       "      <td>0.025295</td>\n",
       "      <td>-0.008490</td>\n",
       "      <td>-0.032198</td>\n",
       "      <td>-0.004815</td>\n",
       "      <td>-0.000664</td>\n",
       "      <td>0.015681</td>\n",
       "    </tr>\n",
       "    <tr>\n",
       "      <th>1</th>\n",
       "      <td>0.090783</td>\n",
       "      <td>0.008813</td>\n",
       "      <td>-0.037615</td>\n",
       "      <td>-0.026222</td>\n",
       "      <td>0.011827</td>\n",
       "      <td>-0.005744</td>\n",
       "      <td>0.008526</td>\n",
       "      <td>-0.008063</td>\n",
       "      <td>0.034072</td>\n",
       "      <td>0.000471</td>\n",
       "      <td>...</td>\n",
       "      <td>-0.019326</td>\n",
       "      <td>-0.012181</td>\n",
       "      <td>-0.022135</td>\n",
       "      <td>0.006610</td>\n",
       "      <td>0.008709</td>\n",
       "      <td>-0.026680</td>\n",
       "      <td>0.006154</td>\n",
       "      <td>-0.012177</td>\n",
       "      <td>0.008311</td>\n",
       "      <td>0.004453</td>\n",
       "    </tr>\n",
       "    <tr>\n",
       "      <th>2</th>\n",
       "      <td>0.082608</td>\n",
       "      <td>0.003506</td>\n",
       "      <td>-0.019689</td>\n",
       "      <td>0.002238</td>\n",
       "      <td>-0.029184</td>\n",
       "      <td>-0.009877</td>\n",
       "      <td>0.005093</td>\n",
       "      <td>0.033191</td>\n",
       "      <td>-0.003287</td>\n",
       "      <td>0.033594</td>\n",
       "      <td>...</td>\n",
       "      <td>0.023939</td>\n",
       "      <td>0.004300</td>\n",
       "      <td>0.009672</td>\n",
       "      <td>0.004073</td>\n",
       "      <td>-0.047614</td>\n",
       "      <td>-0.017246</td>\n",
       "      <td>0.005099</td>\n",
       "      <td>-0.004958</td>\n",
       "      <td>-0.015012</td>\n",
       "      <td>-0.020411</td>\n",
       "    </tr>\n",
       "    <tr>\n",
       "      <th>3</th>\n",
       "      <td>0.173664</td>\n",
       "      <td>-0.015790</td>\n",
       "      <td>0.053503</td>\n",
       "      <td>-0.001740</td>\n",
       "      <td>-0.097585</td>\n",
       "      <td>0.007493</td>\n",
       "      <td>0.049974</td>\n",
       "      <td>0.043830</td>\n",
       "      <td>0.037543</td>\n",
       "      <td>0.054843</td>\n",
       "      <td>...</td>\n",
       "      <td>-0.007745</td>\n",
       "      <td>-0.018178</td>\n",
       "      <td>-0.019515</td>\n",
       "      <td>0.006089</td>\n",
       "      <td>-0.005519</td>\n",
       "      <td>-0.004594</td>\n",
       "      <td>0.014165</td>\n",
       "      <td>-0.004530</td>\n",
       "      <td>-0.014350</td>\n",
       "      <td>0.010575</td>\n",
       "    </tr>\n",
       "    <tr>\n",
       "      <th>4</th>\n",
       "      <td>0.100689</td>\n",
       "      <td>0.024296</td>\n",
       "      <td>-0.019660</td>\n",
       "      <td>0.003220</td>\n",
       "      <td>-0.028531</td>\n",
       "      <td>0.030929</td>\n",
       "      <td>-0.000093</td>\n",
       "      <td>-0.031040</td>\n",
       "      <td>-0.020463</td>\n",
       "      <td>0.038559</td>\n",
       "      <td>...</td>\n",
       "      <td>-0.025697</td>\n",
       "      <td>-0.022170</td>\n",
       "      <td>0.002106</td>\n",
       "      <td>0.005408</td>\n",
       "      <td>0.002233</td>\n",
       "      <td>0.000588</td>\n",
       "      <td>-0.011982</td>\n",
       "      <td>0.014029</td>\n",
       "      <td>0.032041</td>\n",
       "      <td>0.023179</td>\n",
       "    </tr>\n",
       "  </tbody>\n",
       "</table>\n",
       "<p>5 rows × 1000 columns</p>\n",
       "</div>"
      ],
      "text/plain": [
       "        0         1         2         3         4         5         6    \\\n",
       "0  0.091196  0.001533 -0.023271 -0.044381  0.020554 -0.020416 -0.012325   \n",
       "1  0.090783  0.008813 -0.037615 -0.026222  0.011827 -0.005744  0.008526   \n",
       "2  0.082608  0.003506 -0.019689  0.002238 -0.029184 -0.009877  0.005093   \n",
       "3  0.173664 -0.015790  0.053503 -0.001740 -0.097585  0.007493  0.049974   \n",
       "4  0.100689  0.024296 -0.019660  0.003220 -0.028531  0.030929 -0.000093   \n",
       "\n",
       "        7         8         9    ...       990       991       992       993  \\\n",
       "0 -0.004180  0.027998  0.000091  ... -0.008724  0.040690 -0.025221  0.004386   \n",
       "1 -0.008063  0.034072  0.000471  ... -0.019326 -0.012181 -0.022135  0.006610   \n",
       "2  0.033191 -0.003287  0.033594  ...  0.023939  0.004300  0.009672  0.004073   \n",
       "3  0.043830  0.037543  0.054843  ... -0.007745 -0.018178 -0.019515  0.006089   \n",
       "4 -0.031040 -0.020463  0.038559  ... -0.025697 -0.022170  0.002106  0.005408   \n",
       "\n",
       "        994       995       996       997       998       999  \n",
       "0  0.025295 -0.008490 -0.032198 -0.004815 -0.000664  0.015681  \n",
       "1  0.008709 -0.026680  0.006154 -0.012177  0.008311  0.004453  \n",
       "2 -0.047614 -0.017246  0.005099 -0.004958 -0.015012 -0.020411  \n",
       "3 -0.005519 -0.004594  0.014165 -0.004530 -0.014350  0.010575  \n",
       "4  0.002233  0.000588 -0.011982  0.014029  0.032041  0.023179  \n",
       "\n",
       "[5 rows x 1000 columns]"
      ]
     },
     "execution_count": 33,
     "metadata": {},
     "output_type": "execute_result"
    }
   ],
   "source": [
    "reduced_data.head()"
   ]
  },
  {
   "cell_type": "markdown",
   "id": "22a1162d",
   "metadata": {},
   "source": [
    "Здесь я подумал о нормализации данных - ничего хорошего по итогу из этого не аышло"
   ]
  },
  {
   "cell_type": "code",
   "execution_count": 34,
   "id": "49b35685",
   "metadata": {},
   "outputs": [],
   "source": [
    "scaler = StandardScaler()\n",
    "reduced_scaled_data = pd.DataFrame(scaler.fit_transform(reduced_data))"
   ]
  },
  {
   "cell_type": "code",
   "execution_count": 37,
   "id": "3793e084",
   "metadata": {},
   "outputs": [
    {
     "data": {
      "text/html": [
       "<div>\n",
       "<style scoped>\n",
       "    .dataframe tbody tr th:only-of-type {\n",
       "        vertical-align: middle;\n",
       "    }\n",
       "\n",
       "    .dataframe tbody tr th {\n",
       "        vertical-align: top;\n",
       "    }\n",
       "\n",
       "    .dataframe thead th {\n",
       "        text-align: right;\n",
       "    }\n",
       "</style>\n",
       "<table border=\"1\" class=\"dataframe\">\n",
       "  <thead>\n",
       "    <tr style=\"text-align: right;\">\n",
       "      <th></th>\n",
       "      <th>count</th>\n",
       "      <th>mean</th>\n",
       "      <th>std</th>\n",
       "      <th>min</th>\n",
       "      <th>25%</th>\n",
       "      <th>50%</th>\n",
       "      <th>75%</th>\n",
       "      <th>max</th>\n",
       "    </tr>\n",
       "  </thead>\n",
       "  <tbody>\n",
       "    <tr>\n",
       "      <th>0</th>\n",
       "      <td>14590.0</td>\n",
       "      <td>2.164258e-15</td>\n",
       "      <td>1.000034</td>\n",
       "      <td>-2.596795</td>\n",
       "      <td>-0.713439</td>\n",
       "      <td>-0.226286</td>\n",
       "      <td>0.522710</td>\n",
       "      <td>6.572040</td>\n",
       "    </tr>\n",
       "    <tr>\n",
       "      <th>1</th>\n",
       "      <td>14590.0</td>\n",
       "      <td>-1.558421e-16</td>\n",
       "      <td>1.000034</td>\n",
       "      <td>-3.720440</td>\n",
       "      <td>-0.491020</td>\n",
       "      <td>0.051639</td>\n",
       "      <td>0.591513</td>\n",
       "      <td>4.101378</td>\n",
       "    </tr>\n",
       "    <tr>\n",
       "      <th>2</th>\n",
       "      <td>14590.0</td>\n",
       "      <td>4.207738e-16</td>\n",
       "      <td>1.000034</td>\n",
       "      <td>-3.778562</td>\n",
       "      <td>-0.695794</td>\n",
       "      <td>-0.052338</td>\n",
       "      <td>0.645203</td>\n",
       "      <td>3.838322</td>\n",
       "    </tr>\n",
       "    <tr>\n",
       "      <th>3</th>\n",
       "      <td>14590.0</td>\n",
       "      <td>-4.675264e-16</td>\n",
       "      <td>1.000034</td>\n",
       "      <td>-3.463811</td>\n",
       "      <td>-0.627135</td>\n",
       "      <td>-0.132380</td>\n",
       "      <td>0.420657</td>\n",
       "      <td>5.080083</td>\n",
       "    </tr>\n",
       "    <tr>\n",
       "      <th>4</th>\n",
       "      <td>14590.0</td>\n",
       "      <td>1.402579e-16</td>\n",
       "      <td>1.000034</td>\n",
       "      <td>-6.013362</td>\n",
       "      <td>-0.531713</td>\n",
       "      <td>0.051797</td>\n",
       "      <td>0.559020</td>\n",
       "      <td>6.564122</td>\n",
       "    </tr>\n",
       "    <tr>\n",
       "      <th>...</th>\n",
       "      <td>...</td>\n",
       "      <td>...</td>\n",
       "      <td>...</td>\n",
       "      <td>...</td>\n",
       "      <td>...</td>\n",
       "      <td>...</td>\n",
       "      <td>...</td>\n",
       "      <td>...</td>\n",
       "    </tr>\n",
       "    <tr>\n",
       "      <th>995</th>\n",
       "      <td>14590.0</td>\n",
       "      <td>1.314918e-17</td>\n",
       "      <td>1.000034</td>\n",
       "      <td>-3.573539</td>\n",
       "      <td>-0.664039</td>\n",
       "      <td>0.002155</td>\n",
       "      <td>0.663485</td>\n",
       "      <td>4.608258</td>\n",
       "    </tr>\n",
       "    <tr>\n",
       "      <th>996</th>\n",
       "      <td>14590.0</td>\n",
       "      <td>-1.363619e-17</td>\n",
       "      <td>1.000034</td>\n",
       "      <td>-3.899019</td>\n",
       "      <td>-0.666419</td>\n",
       "      <td>0.020424</td>\n",
       "      <td>0.661764</td>\n",
       "      <td>4.038210</td>\n",
       "    </tr>\n",
       "    <tr>\n",
       "      <th>997</th>\n",
       "      <td>14590.0</td>\n",
       "      <td>2.337632e-17</td>\n",
       "      <td>1.000034</td>\n",
       "      <td>-3.583806</td>\n",
       "      <td>-0.664363</td>\n",
       "      <td>-0.005504</td>\n",
       "      <td>0.667553</td>\n",
       "      <td>3.962044</td>\n",
       "    </tr>\n",
       "    <tr>\n",
       "      <th>998</th>\n",
       "      <td>14590.0</td>\n",
       "      <td>-2.435033e-19</td>\n",
       "      <td>1.000034</td>\n",
       "      <td>-3.663837</td>\n",
       "      <td>-0.663002</td>\n",
       "      <td>0.011277</td>\n",
       "      <td>0.662844</td>\n",
       "      <td>4.084837</td>\n",
       "    </tr>\n",
       "    <tr>\n",
       "      <th>999</th>\n",
       "      <td>14590.0</td>\n",
       "      <td>-2.459384e-17</td>\n",
       "      <td>1.000034</td>\n",
       "      <td>-3.837371</td>\n",
       "      <td>-0.674558</td>\n",
       "      <td>0.011499</td>\n",
       "      <td>0.666638</td>\n",
       "      <td>4.410862</td>\n",
       "    </tr>\n",
       "  </tbody>\n",
       "</table>\n",
       "<p>1000 rows × 8 columns</p>\n",
       "</div>"
      ],
      "text/plain": [
       "       count          mean       std       min       25%       50%       75%  \\\n",
       "0    14590.0  2.164258e-15  1.000034 -2.596795 -0.713439 -0.226286  0.522710   \n",
       "1    14590.0 -1.558421e-16  1.000034 -3.720440 -0.491020  0.051639  0.591513   \n",
       "2    14590.0  4.207738e-16  1.000034 -3.778562 -0.695794 -0.052338  0.645203   \n",
       "3    14590.0 -4.675264e-16  1.000034 -3.463811 -0.627135 -0.132380  0.420657   \n",
       "4    14590.0  1.402579e-16  1.000034 -6.013362 -0.531713  0.051797  0.559020   \n",
       "..       ...           ...       ...       ...       ...       ...       ...   \n",
       "995  14590.0  1.314918e-17  1.000034 -3.573539 -0.664039  0.002155  0.663485   \n",
       "996  14590.0 -1.363619e-17  1.000034 -3.899019 -0.666419  0.020424  0.661764   \n",
       "997  14590.0  2.337632e-17  1.000034 -3.583806 -0.664363 -0.005504  0.667553   \n",
       "998  14590.0 -2.435033e-19  1.000034 -3.663837 -0.663002  0.011277  0.662844   \n",
       "999  14590.0 -2.459384e-17  1.000034 -3.837371 -0.674558  0.011499  0.666638   \n",
       "\n",
       "          max  \n",
       "0    6.572040  \n",
       "1    4.101378  \n",
       "2    3.838322  \n",
       "3    5.080083  \n",
       "4    6.564122  \n",
       "..        ...  \n",
       "995  4.608258  \n",
       "996  4.038210  \n",
       "997  3.962044  \n",
       "998  4.084837  \n",
       "999  4.410862  \n",
       "\n",
       "[1000 rows x 8 columns]"
      ]
     },
     "execution_count": 37,
     "metadata": {},
     "output_type": "execute_result"
    }
   ],
   "source": [
    "reduced_scaled_data.describe().T"
   ]
  },
  {
   "cell_type": "code",
   "execution_count": 17,
   "id": "27f2fdc8",
   "metadata": {},
   "outputs": [
    {
     "name": "stderr",
     "output_type": "stream",
     "text": [
      "/opt/anaconda3/envs/work/lib/python3.10/site-packages/sklearn/cluster/_kmeans.py:870: FutureWarning: The default value of `n_init` will change from 10 to 'auto' in 1.4. Set the value of `n_init` explicitly to suppress the warning\n",
      "  warnings.warn(\n"
     ]
    },
    {
     "data": {
      "text/plain": [
       "<seaborn.axisgrid.FacetGrid at 0x30e054580>"
      ]
     },
     "execution_count": 17,
     "metadata": {},
     "output_type": "execute_result"
    },
    {
     "data": {
      "image/png": "[encoded data removed]",
      "text/plain": [
       "<Figure size 500x500 with 1 Axes>"
      ]
     },
     "metadata": {},
     "output_type": "display_data"
    }
   ],
   "source": [
    "kmeans.fit(reduced_data)\n",
    "sns.displot(kmeans.labels_)"
   ]
  },
  {
   "cell_type": "code",
   "execution_count": 18,
   "id": "32962057",
   "metadata": {},
   "outputs": [],
   "source": [
    "ans_km2 = pd.DataFrame()\n",
    "ans_km2['ID'] = [i for i in range(len(kmeans.labels_))]\n",
    "ans_km2['TARGET'] = kmeans.labels_\n",
    "ans_km2.to_csv('ans7.csv')"
   ]
  },
  {
   "cell_type": "code",
   "execution_count": 19,
   "id": "d6ada889",
   "metadata": {},
   "outputs": [
    {
     "name": "stderr",
     "output_type": "stream",
     "text": [
      "/var/folders/jk/wmbjw1_d1tlbkns604pznpfr0000gn/T/ipykernel_21053/3866262776.py:2: UserWarning: \n",
      "\n",
      "`distplot` is a deprecated function and will be removed in seaborn v0.14.0.\n",
      "\n",
      "Please adapt your code to use either `displot` (a figure-level function with\n",
      "similar flexibility) or `histplot` (an axes-level function for histograms).\n",
      "\n",
      "For a guide to updating your code to use the new functions, please see\n",
      "https://gist.github.com/mwaskom/de44147ed2974457ad6372750bbe5751\n",
      "\n",
      "  sns.distplot(model_hd2.labels_)\n"
     ]
    },
    {
     "data": {
      "text/plain": [
       "<Axes: ylabel='Density'>"
      ]
     },
     "execution_count": 19,
     "metadata": {},
     "output_type": "execute_result"
    },
    {
     "data": {
      "image/png": "[encoded data removed]",
      "text/plain": [
       "<Figure size 640x480 with 1 Axes>"
      ]
     },
     "metadata": {},
     "output_type": "display_data"
    }
   ],
   "source": [
    "model_hd2 = hdbscan.HDBSCAN().fit(reduced_data)\n",
    "sns.distplot(model_hd2.labels_)"
   ]
  },
  {
   "cell_type": "code",
   "execution_count": 20,
   "id": "9417e82d",
   "metadata": {},
   "outputs": [],
   "source": [
    "ans_hd2 = pd.DataFrame()\n",
    "ans_hd2['ID'] = [i for i in range(len(model_hd2.labels_))]\n",
    "ans_hd2['TARGET'] = model_hd2.labels_\n",
    "ans_hd2.to_csv('ans9.csv')"
   ]
  },
  {
   "cell_type": "markdown",
   "id": "76815ee4",
   "metadata": {},
   "source": [
    "Здесь попробовал использовать следующую модель - GaussianMixture, метрики особо не улучшились"
   ]
  },
  {
   "cell_type": "code",
   "execution_count": null,
   "id": "55f84fcb",
   "metadata": {},
   "outputs": [],
   "source": [
    "gm = GaussianMixture(n_components=5).fit(data_top_n.sparse.to_dense())"
   ]
  },
  {
   "cell_type": "code",
   "execution_count": 29,
   "id": "3c9f9d6a",
   "metadata": {},
   "outputs": [],
   "source": [
    "labels_gm = gm.predict(reduced_data)"
   ]
  },
  {
   "cell_type": "code",
   "execution_count": 30,
   "id": "939c82c6",
   "metadata": {},
   "outputs": [
    {
     "name": "stderr",
     "output_type": "stream",
     "text": [
      "/var/folders/jk/wmbjw1_d1tlbkns604pznpfr0000gn/T/ipykernel_21053/743371218.py:1: UserWarning: \n",
      "\n",
      "`distplot` is a deprecated function and will be removed in seaborn v0.14.0.\n",
      "\n",
      "Please adapt your code to use either `displot` (a figure-level function with\n",
      "similar flexibility) or `histplot` (an axes-level function for histograms).\n",
      "\n",
      "For a guide to updating your code to use the new functions, please see\n",
      "https://gist.github.com/mwaskom/de44147ed2974457ad6372750bbe5751\n",
      "\n",
      "  sns.distplot(labels_gm)\n"
     ]
    },
    {
     "data": {
      "text/plain": [
       "<Axes: ylabel='Density'>"
      ]
     },
     "execution_count": 30,
     "metadata": {},
     "output_type": "execute_result"
    },
    {
     "data": {
      "image/png": "[encoded data removed]",
      "text/plain": [
       "<Figure size 640x480 with 1 Axes>"
      ]
     },
     "metadata": {},
     "output_type": "display_data"
    }
   ],
   "source": [
    "sns.distplot(labels_gm)"
   ]
  },
  {
   "cell_type": "code",
   "execution_count": 31,
   "id": "299e5c02",
   "metadata": {},
   "outputs": [],
   "source": [
    "ans_gm = pd.DataFrame()\n",
    "ans_gm['ID'] = [i for i in range(len(labels_gm))]\n",
    "ans_gm['TARGET'] = labels_gm\n",
    "ans_gm.to_csv('ans10.csv')"
   ]
  },
  {
   "cell_type": "code",
   "execution_count": 52,
   "id": "642bb3ef",
   "metadata": {},
   "outputs": [],
   "source": [
    "gm_scaled = GaussianMixture(n_components=3).fit(reduced_data)"
   ]
  },
  {
   "cell_type": "code",
   "execution_count": 54,
   "id": "7d921cfc",
   "metadata": {},
   "outputs": [
    {
     "name": "stderr",
     "output_type": "stream",
     "text": [
      "/var/folders/jk/wmbjw1_d1tlbkns604pznpfr0000gn/T/ipykernel_21053/543358494.py:2: UserWarning: \n",
      "\n",
      "`distplot` is a deprecated function and will be removed in seaborn v0.14.0.\n",
      "\n",
      "Please adapt your code to use either `displot` (a figure-level function with\n",
      "similar flexibility) or `histplot` (an axes-level function for histograms).\n",
      "\n",
      "For a guide to updating your code to use the new functions, please see\n",
      "https://gist.github.com/mwaskom/de44147ed2974457ad6372750bbe5751\n",
      "\n",
      "  sns.distplot(labels_gm_sc)\n"
     ]
    },
    {
     "data": {
      "text/plain": [
       "<Axes: ylabel='Density'>"
      ]
     },
     "execution_count": 54,
     "metadata": {},
     "output_type": "execute_result"
    },
    {
     "data": {
      "image/png": "[encoded data removed]",
      "text/plain": [
       "<Figure size 640x480 with 1 Axes>"
      ]
     },
     "metadata": {},
     "output_type": "display_data"
    }
   ],
   "source": [
    "labels_gm_sc = gm_scaled.predict(reduced_data)\n",
    "sns.distplot(labels_gm_sc)"
   ]
  },
  {
   "cell_type": "markdown",
   "id": "8fe30ad3",
   "metadata": {},
   "source": [
    "Вот здесь как раз попытки сделать понижение через PCA"
   ]
  },
  {
   "cell_type": "code",
   "execution_count": 14,
   "id": "bde90ac7",
   "metadata": {},
   "outputs": [],
   "source": [
    "# Применение PCA для снижения размерности до 2\n",
    "pca = PCA(n_components=100)\n",
    "principal_components = pca.fit_transform(dense_data)"
   ]
  },
  {
   "cell_type": "markdown",
   "id": "a3c1499e",
   "metadata": {},
   "source": [
    "Далее я предпринял попытки для подбора гиперпараметров dbscan, в каких-то случаях выдавал решение нв 3 кластера, однако метрики все равно плохие"
   ]
  },
  {
   "cell_type": "code",
   "execution_count": null,
   "id": "36bc1227",
   "metadata": {},
   "outputs": [],
   "source": [
    "for eps in [0.5, 0.6, 0.7, 0.8, 0.9, 1]:\n",
    "    for min_samples in range(5, 25):\n",
    "        result = []\n",
    "        dbscan = DBSCAN(eps=eps, min_samples=min_samples).fit(data_top_n)\n",
    "        labels_opt = dbscan.labels_\n",
    "        if len(set(labels_opt)) <= 5 and len(set(labels_opt)) >= 3:\n",
    "            result.append((eps, min_samples, set(labels_opt)))\n",
    "result"
   ]
  },
  {
   "cell_type": "code",
   "execution_count": 14,
   "id": "5972258f",
   "metadata": {},
   "outputs": [],
   "source": [
    "dbscan = DBSCAN(eps=0.3, min_samples=20, metric='cosine').fit(data_top_n)\n",
    "labels_opt = dbscan.labels_"
   ]
  },
  {
   "cell_type": "code",
   "execution_count": 15,
   "id": "83d2f19c",
   "metadata": {},
   "outputs": [
    {
     "data": {
      "text/plain": [
       "array([-1, -1, -1, ..., -1, -1, -1])"
      ]
     },
     "execution_count": 15,
     "metadata": {},
     "output_type": "execute_result"
    }
   ],
   "source": [
    "labels_opt"
   ]
  },
  {
   "cell_type": "code",
   "execution_count": 37,
   "id": "ade0d4de",
   "metadata": {},
   "outputs": [
    {
     "data": {
      "text/plain": [
       "array([0, 1, 2])"
      ]
     },
     "execution_count": 37,
     "metadata": {},
     "output_type": "execute_result"
    }
   ],
   "source": [
    "np.unique(labels_opt)"
   ]
  },
  {
   "cell_type": "code",
   "execution_count": 38,
   "id": "a476e576",
   "metadata": {},
   "outputs": [],
   "source": [
    "ans_db = pd.DataFrame()\n",
    "ans_db['ID'] = [i for i in range(len(labels_opt))]\n",
    "ans_db['TARGET'] = labels_opt\n",
    "ans_db.to_csv('ans_db3.csv')"
   ]
  },
  {
   "cell_type": "markdown",
   "id": "921158a6",
   "metadata": {},
   "source": [
    "## Выводы\n",
    "В данной домашке я попытался кластеризовать точки по разреженной матрице. Честно признаться, результом я не доволен, так как метрики меня не удовлетворили и все эвристики, что я пробовал не сработали, а лучший результат получился на банальном k-means, который работает через раз."
   ]
  },
  {
   "cell_type": "code",
   "execution_count": null,
   "id": "80381286",
   "metadata": {},
   "outputs": [],
   "source": []
  }
 ],
 "metadata": {
  "kernelspec": {
   "display_name": "Python 3 (ipykernel)",
   "language": "python",
   "name": "python3"
  },
  "language_info": {
   "codemirror_mode": {
    "name": "ipython",
    "version": 3
   },
   "file_extension": ".py",
   "mimetype": "text/x-python",
   "name": "python",
   "nbconvert_exporter": "python",
   "pygments_lexer": "ipython3",
   "version": "3.10.14"
  }
 },
 "nbformat": 4,
 "nbformat_minor": 5
}
